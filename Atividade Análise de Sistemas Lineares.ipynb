{
 "cells": [
  {
   "cell_type": "markdown",
   "metadata": {},
   "source": [
    "### Função Degrau"
   ]
  },
  {
   "cell_type": "code",
   "execution_count": null,
   "metadata": {},
   "outputs": [],
   "source": [
    "\n",
    "import matplotlib.pyplot as plt\n",
    "import numpy as np\n",
    "import math\n",
    "\n",
    "def FuncaoDegrau (vetor, to):\n",
    "    lista = []\n",
    "    for item in vetor:\n",
    "        if to == 0:\n",
    "            if (item < 0):\n",
    "                item = 0\n",
    "            elif (item >= 0):\n",
    "                item = 1\n",
    "        elif to < 0:\n",
    "            if (item < to):\n",
    "                item = 0\n",
    "            elif (item >= to):\n",
    "                item = 1\n",
    "        elif to > 0:\n",
    "            if (item < -to):\n",
    "                item = 0\n",
    "            elif (item >= -to):\n",
    "                item = 1\n",
    "        lista.append(item)\n",
    "         \n",
    "    return lista\n",
    "            \n",
    "print(FuncaoDegrau([-4,-3,-2,0,1,2,3,4,0,0,0],0)) \n",
    "print(FuncaoDegrau([-4,-3,-2,0,1,2,3,4,0,0,0],-3)) \n",
    "print(FuncaoDegrau([-4,-3,-2,0,1,2,3,4,0,0,0],2))"
   ]
  },
  {
   "cell_type": "markdown",
   "metadata": {},
   "source": [
    "### Função Impulso "
   ]
  },
  {
   "cell_type": "code",
   "execution_count": null,
   "metadata": {},
   "outputs": [],
   "source": [
    "def FuncaoImpulso (vetor,to):\n",
    "    lista = []\n",
    "    for item in vetor:\n",
    "        if to == 0:\n",
    "            if (item < 0):\n",
    "                item = 0 \n",
    "            elif (item == 0):\n",
    "                item = \"Indefinida\"\n",
    "            elif (item > 0):\n",
    "                item = 0\n",
    "        elif to < 0:\n",
    "            if (item < to):\n",
    "                item = 0\n",
    "            elif (item == to):\n",
    "                item = 'Indefinida'\n",
    "            elif (item > to):\n",
    "                item = 0\n",
    "        elif to > 0:\n",
    "            if (item < -to):\n",
    "                item = 0\n",
    "            elif (item == -to):\n",
    "                item = 'Indefinida'\n",
    "            elif (item > - to):\n",
    "                item = 0\n",
    "        lista.append(item)\n",
    "    return lista\n",
    "\n",
    "print(FuncaoImpulso([-4,-3,-2,0,1,2,3,4,0,0,0],0))\n",
    "print(FuncaoImpulso([-4,-3,-2,0,1,2,3,4,0,0,0], -3)) "
   ]
  },
  {
   "cell_type": "markdown",
   "metadata": {},
   "source": [
    "### Função Rampa"
   ]
  },
  {
   "cell_type": "code",
   "execution_count": null,
   "metadata": {},
   "outputs": [],
   "source": [
    "def FuncaoRampa (vetor):\n",
    "    lista=[]\n",
    "    for item in vetor:\n",
    "        if (item>=0):\n",
    "            item = item\n",
    "        elif (item < 0):\n",
    "            item = 0\n",
    "        lista.append(item)\n",
    "    return lista\n",
    "\n",
    "print(FuncaoRampa([-4,-3,-2,0,1,2,3,4,0,0,0]))"
   ]
  },
  {
   "cell_type": "markdown",
   "metadata": {},
   "source": [
    "### Função Deslocamento no Tempo"
   ]
  },
  {
   "cell_type": "code",
   "execution_count": null,
   "metadata": {},
   "outputs": [],
   "source": [
    "def FuncaoDeslocamento (vetor, constante):\n",
    "    y = []\n",
    "    for item in vetor:\n",
    "        item = item - constante\n",
    "        y.append(item)\n",
    "    return y\n",
    "\n",
    "print(FuncaoDeslocamento([-4,-3,-2,0,1,2,3,4,0,0,0], 4)) "
   ]
  },
  {
   "cell_type": "code",
   "execution_count": null,
   "metadata": {},
   "outputs": [],
   "source": []
  },
  {
   "cell_type": "code",
   "execution_count": null,
   "metadata": {},
   "outputs": [],
   "source": [
    "a = FuncaoDegrau([-4,-3,-2,0,1,2,3,4,0,0,0])\n",
    "print(a)"
   ]
  },
  {
   "cell_type": "code",
   "execution_count": null,
   "metadata": {
    "scrolled": true
   },
   "outputs": [],
   "source": [
    "print(FuncaoDeslocamento(a,-3))\n",
    "print(FuncaoDeslocamento(a,2))"
   ]
  },
  {
   "cell_type": "code",
   "execution_count": null,
   "metadata": {},
   "outputs": [],
   "source": [
    "def Degrau (vetor):\n",
    "    lista = []\n",
    "    for item in vetor: \n",
    "        if (item < 0):\n",
    "            item = 0\n",
    "        else:\n",
    "            item = 1\n",
    "        lista.append(item)\n",
    "         \n",
    "    return lista\n",
    "            \n",
    "print(Degrau([-4,-3,-2,0,1,2,3,4,0,0,0]))"
   ]
  },
  {
   "cell_type": "code",
   "execution_count": null,
   "metadata": {},
   "outputs": [],
   "source": [
    "def Impulso (vetor):\n",
    "    lista = []\n",
    "    for item in vetor:\n",
    "        if (item < 0):\n",
    "            item = 0 \n",
    "        elif (item == 0):\n",
    "            item = 1\n",
    "        elif (item > 0):\n",
    "            item = 0\n",
    "        lista.append(item)\n",
    "    return lista\n",
    "print(Impulso([-4,-3,-2,0,1,2,3,4,0,0,0]))"
   ]
  },
  {
   "cell_type": "markdown",
   "metadata": {},
   "source": [
    "### Plotando"
   ]
  },
  {
   "cell_type": "code",
   "execution_count": null,
   "metadata": {},
   "outputs": [],
   "source": [
    "b = range(-5,5)\n",
    "a = Degrau(b)\n",
    "\n",
    "fig, axs = plt.subplots(1,3,figsize=(20,5))\n",
    "axs[0].stem(b, b)\n",
    "axs[0].set_title(\"t\")\n",
    "\n",
    "axs[1].stem(b,a)\n",
    "axs[1].set_title(\"u[n]\")\n",
    "\n",
    "axs[2].stem(FuncaoDeslocamento(b,3),a)\n",
    "axs[2].set_title(\"u[n - 3]\")\n",
    "\n",
    "for ax in axs.flat:\n",
    "    ax.set(xlabel='n', ylabel='x[n]')"
   ]
  },
  {
   "cell_type": "code",
   "execution_count": null,
   "metadata": {},
   "outputs": [],
   "source": [
    "fig, axs = plt.subplots(1,3,figsize=(20,5))\n",
    "axs[0].stem(b, b)\n",
    "axs[0].set_title(\"t\")\n",
    "\n",
    "axs[1].stem(b,a)\n",
    "axs[1].set_title(\"u[n]\")\n",
    "\n",
    "axs[2].stem(FuncaoDeslocamento(b,-2),a)\n",
    "axs[2].set_title(\"u[n + 2]\")\n",
    "\n",
    "for ax in axs.flat:\n",
    "    ax.set(xlabel='n', ylabel='x[n]')"
   ]
  },
  {
   "cell_type": "code",
   "execution_count": null,
   "metadata": {},
   "outputs": [],
   "source": [
    "c = Impulso(b)\n",
    "\n",
    "fig, axs = plt.subplots(1,3,figsize=(20,5))\n",
    "axs[0].stem(b, b)\n",
    "axs[0].set_title(\"t\")\n",
    "\n",
    "axs[1].stem(b,c)\n",
    "axs[1].set_title(\"δ[n]\")\n",
    "\n",
    "axs[2].stem(FuncaoDeslocamento(b,3),c)\n",
    "axs[2].set_title(\"δ[n - 3]\")\n",
    "\n",
    "for ax in axs.flat:\n",
    "    ax.set(xlabel='n', ylabel='x[n]')"
   ]
  },
  {
   "cell_type": "code",
   "execution_count": null,
   "metadata": {},
   "outputs": [],
   "source": []
  },
  {
   "cell_type": "code",
   "execution_count": null,
   "metadata": {},
   "outputs": [],
   "source": []
  }
 ],
 "metadata": {
  "kernelspec": {
   "display_name": "Python 3",
   "language": "python",
   "name": "python3"
  },
  "language_info": {
   "codemirror_mode": {
    "name": "ipython",
    "version": 3
   },
   "file_extension": ".py",
   "mimetype": "text/x-python",
   "name": "python",
   "nbconvert_exporter": "python",
   "pygments_lexer": "ipython3",
   "version": "3.6.9"
  }
 },
 "nbformat": 4,
 "nbformat_minor": 2
}