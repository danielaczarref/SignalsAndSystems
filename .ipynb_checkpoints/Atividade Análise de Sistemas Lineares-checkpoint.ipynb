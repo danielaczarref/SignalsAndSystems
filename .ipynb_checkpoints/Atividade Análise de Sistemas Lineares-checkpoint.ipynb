{
 "cells": [
  {
   "cell_type": "markdown",
   "metadata": {},
   "source": [
    "### Função Degrau"
   ]
  },
  {
   "cell_type": "code",
   "execution_count": 22,
   "metadata": {},
   "outputs": [
    {
     "ename": "ModuleNotFoundError",
     "evalue": "No module named 'pip3'",
     "output_type": "error",
     "traceback": [
      "\u001b[0;31m---------------------------------------------------------------------------\u001b[0m",
      "\u001b[0;31mModuleNotFoundError\u001b[0m                       Traceback (most recent call last)",
      "\u001b[0;32m<ipython-input-22-89698a8d80a1>\u001b[0m in \u001b[0;36m<module>\u001b[0;34m\u001b[0m\n\u001b[1;32m      4\u001b[0m \u001b[0mDisciplina\u001b[0m\u001b[0;34m:\u001b[0m \u001b[0mAnálise\u001b[0m \u001b[0mde\u001b[0m \u001b[0mSistemas\u001b[0m \u001b[0mLineares\u001b[0m\u001b[0;34m\u001b[0m\u001b[0;34m\u001b[0m\u001b[0m\n\u001b[1;32m      5\u001b[0m '''\n\u001b[0;32m----> 6\u001b[0;31m \u001b[0;32mimport\u001b[0m \u001b[0mpip3\u001b[0m\u001b[0;34m\u001b[0m\u001b[0;34m\u001b[0m\u001b[0m\n\u001b[0m\u001b[1;32m      7\u001b[0m \u001b[0mpip3\u001b[0m\u001b[0;34m.\u001b[0m\u001b[0mmain\u001b[0m\u001b[0;34m(\u001b[0m\u001b[0;34m[\u001b[0m\u001b[0;34m\"install\"\u001b[0m\u001b[0;34m,\u001b[0m\u001b[0;34m\"matplotlib\"\u001b[0m\u001b[0;34m]\u001b[0m\u001b[0;34m)\u001b[0m\u001b[0;34m\u001b[0m\u001b[0;34m\u001b[0m\u001b[0m\n\u001b[1;32m      8\u001b[0m \u001b[0;32mimport\u001b[0m \u001b[0mmatplotlib\u001b[0m\u001b[0;34m.\u001b[0m\u001b[0mpyplot\u001b[0m \u001b[0;32mas\u001b[0m \u001b[0mplt\u001b[0m\u001b[0;34m\u001b[0m\u001b[0;34m\u001b[0m\u001b[0m\n",
      "\u001b[0;31mModuleNotFoundError\u001b[0m: No module named 'pip3'"
     ]
    }
   ],
   "source": [
    "'''\n",
    "Daniela Carvalho Ferraz Nolasco Neves\n",
    "Matrícula: 2019029624\n",
    "Disciplina: Análise de Sistemas Lineares\n",
    "'''\n",
    "import pip\n",
    "pip.main([\"install\",\"matplotlib\"])\n",
    "import matplotlib.pyplot as plt\n",
    "import numpy as np\n",
    "import math\n",
    "\n",
    "def FuncaoDegrau (vetor, to):\n",
    "    lista = []\n",
    "    for item in vetor:\n",
    "        if to == 0:\n",
    "            if (item < 0):\n",
    "                item = 0\n",
    "            elif (item >= 0):\n",
    "                item = 1\n",
    "        elif to < 0:\n",
    "            if (item < to):\n",
    "                item = 0\n",
    "            elif (item >= to):\n",
    "                item = 1\n",
    "        elif to > 0:\n",
    "            if (item < -to):\n",
    "                item = 0\n",
    "            elif (item >= -to):\n",
    "                item = 1\n",
    "        lista.append(item)\n",
    "    '''for item in vetor: \n",
    "        if (item < 0):\n",
    "            item = 0\n",
    "       # elif (item == 0):        #    item = 'Indefinida'\n",
    "        else:\n",
    "            item = 1\n",
    "        #if (item == 0):\n",
    "            #print(\"Em t=0, a função é indefinida\")\n",
    "        lista.append(item)'''\n",
    "         \n",
    "    return lista\n",
    "            \n",
    "print(FuncaoDegrau([-4,-3,-2,0,1,2,3,4,0,0,0],0)) \n",
    "print(FuncaoDegrau([-4,-3,-2,0,1,2,3,4,0,0,0],-3)) #livro Sadiku\n",
    "print(FuncaoDegrau([-4,-3,-2,0,1,2,3,4,0,0,0],2))"
   ]
  },
  {
   "cell_type": "markdown",
   "metadata": {},
   "source": [
    "### Função Impulso "
   ]
  },
  {
   "cell_type": "code",
   "execution_count": 4,
   "metadata": {},
   "outputs": [
    {
     "name": "stdout",
     "output_type": "stream",
     "text": [
      "[0, 0, 0, 'Indefinida', 0, 0, 0, 0, 'Indefinida', 'Indefinida', 'Indefinida']\n",
      "[0, 'Indefinida', 0, 0, 0, 0, 0, 0, 0, 0, 0]\n"
     ]
    }
   ],
   "source": [
    "def FuncaoImpulso (vetor,to):\n",
    "    lista = []\n",
    "    for item in vetor:\n",
    "        if to == 0:\n",
    "            if (item < 0):\n",
    "                item = 0 \n",
    "            elif (item == 0):\n",
    "                item = \"Indefinida\"\n",
    "            elif (item > 0):\n",
    "                item = 0\n",
    "        elif to < 0:\n",
    "            if (item < to):\n",
    "                item = 0\n",
    "            elif (item == to):\n",
    "                item = 'Indefinida'\n",
    "            elif (item > to):\n",
    "                item = 0\n",
    "        elif to > 0:\n",
    "            if (item < -to):\n",
    "                item = 0\n",
    "            elif (item == -to):\n",
    "                item = 'Indefinida'\n",
    "            elif (item > - to):\n",
    "                item = 0\n",
    "        '''if (item < 0):\n",
    "            item = 0 \n",
    "        elif (item == 0):\n",
    "            item = \"Indefinida\"\n",
    "        elif (item > 0):\n",
    "            item = 0'''\n",
    "        lista.append(item)\n",
    "    return lista\n",
    "\n",
    "print(FuncaoImpulso([-4,-3,-2,0,1,2,3,4,0,0,0],0))\n",
    "print(FuncaoImpulso([-4,-3,-2,0,1,2,3,4,0,0,0], -3)) #Livro Sadiku"
   ]
  },
  {
   "cell_type": "markdown",
   "metadata": {},
   "source": [
    "### Função Rampa"
   ]
  },
  {
   "cell_type": "code",
   "execution_count": 6,
   "metadata": {},
   "outputs": [
    {
     "name": "stdout",
     "output_type": "stream",
     "text": [
      "[0, 0, 0, 0, 1, 2, 3, 4, 0, 0, 0]\n"
     ]
    }
   ],
   "source": [
    "def FuncaoRampa (vetor):\n",
    "    lista=[]\n",
    "    for item in vetor:\n",
    "        if (item>=0):\n",
    "            item = item\n",
    "        elif (item < 0):\n",
    "            item = 0\n",
    "        lista.append(item)\n",
    "    return lista\n",
    "\n",
    "print(FuncaoRampa([-4,-3,-2,0,1,2,3,4,0,0,0]))"
   ]
  },
  {
   "cell_type": "markdown",
   "metadata": {},
   "source": [
    "### Função Deslocamento no Tempo"
   ]
  },
  {
   "cell_type": "code",
   "execution_count": 7,
   "metadata": {},
   "outputs": [
    {
     "name": "stdout",
     "output_type": "stream",
     "text": [
      "[-8, -7, -6, -4, -3, -2, -1, 0, -4, -4, -4]\n"
     ]
    }
   ],
   "source": [
    "def FuncaoDeslocamento (vetor, constante):\n",
    "    y = []\n",
    "    for item in vetor:\n",
    "        item = item - constante\n",
    "        y.append(item)\n",
    "    return y\n",
    "\n",
    "print(FuncaoDeslocamento([-4,-3,-2,0,1,2,3,4,0,0,0], 4)) #1 questao"
   ]
  },
  {
   "cell_type": "code",
   "execution_count": null,
   "metadata": {},
   "outputs": [],
   "source": []
  },
  {
   "cell_type": "code",
   "execution_count": 16,
   "metadata": {},
   "outputs": [
    {
     "ename": "TypeError",
     "evalue": "FuncaoDegrau() missing 1 required positional argument: 'to'",
     "output_type": "error",
     "traceback": [
      "\u001b[0;31m---------------------------------------------------------------------------\u001b[0m",
      "\u001b[0;31mTypeError\u001b[0m                                 Traceback (most recent call last)",
      "\u001b[0;32m<ipython-input-16-1f377dfe3ac2>\u001b[0m in \u001b[0;36m<module>\u001b[0;34m\u001b[0m\n\u001b[0;32m----> 1\u001b[0;31m \u001b[0ma\u001b[0m \u001b[0;34m=\u001b[0m \u001b[0mFuncaoDegrau\u001b[0m\u001b[0;34m(\u001b[0m\u001b[0;34m[\u001b[0m\u001b[0;34m-\u001b[0m\u001b[0;36m4\u001b[0m\u001b[0;34m,\u001b[0m\u001b[0;34m-\u001b[0m\u001b[0;36m3\u001b[0m\u001b[0;34m,\u001b[0m\u001b[0;34m-\u001b[0m\u001b[0;36m2\u001b[0m\u001b[0;34m,\u001b[0m\u001b[0;36m0\u001b[0m\u001b[0;34m,\u001b[0m\u001b[0;36m1\u001b[0m\u001b[0;34m,\u001b[0m\u001b[0;36m2\u001b[0m\u001b[0;34m,\u001b[0m\u001b[0;36m3\u001b[0m\u001b[0;34m,\u001b[0m\u001b[0;36m4\u001b[0m\u001b[0;34m,\u001b[0m\u001b[0;36m0\u001b[0m\u001b[0;34m,\u001b[0m\u001b[0;36m0\u001b[0m\u001b[0;34m,\u001b[0m\u001b[0;36m0\u001b[0m\u001b[0;34m]\u001b[0m\u001b[0;34m)\u001b[0m\u001b[0;34m\u001b[0m\u001b[0;34m\u001b[0m\u001b[0m\n\u001b[0m\u001b[1;32m      2\u001b[0m \u001b[0mprint\u001b[0m\u001b[0;34m(\u001b[0m\u001b[0ma\u001b[0m\u001b[0;34m)\u001b[0m\u001b[0;34m\u001b[0m\u001b[0;34m\u001b[0m\u001b[0m\n",
      "\u001b[0;31mTypeError\u001b[0m: FuncaoDegrau() missing 1 required positional argument: 'to'"
     ]
    }
   ],
   "source": [
    "a = FuncaoDegrau([-4,-3,-2,0,1,2,3,4,0,0,0])\n",
    "print(a)"
   ]
  },
  {
   "cell_type": "code",
   "execution_count": 9,
   "metadata": {
    "scrolled": true
   },
   "outputs": [
    {
     "ename": "NameError",
     "evalue": "name 'a' is not defined",
     "output_type": "error",
     "traceback": [
      "\u001b[0;31m---------------------------------------------------------------------------\u001b[0m",
      "\u001b[0;31mNameError\u001b[0m                                 Traceback (most recent call last)",
      "\u001b[0;32m<ipython-input-9-e57356693be9>\u001b[0m in \u001b[0;36m<module>\u001b[0;34m\u001b[0m\n\u001b[0;32m----> 1\u001b[0;31m \u001b[0mprint\u001b[0m\u001b[0;34m(\u001b[0m\u001b[0mFuncaoDeslocamento\u001b[0m\u001b[0;34m(\u001b[0m\u001b[0ma\u001b[0m\u001b[0;34m,\u001b[0m\u001b[0;34m-\u001b[0m\u001b[0;36m3\u001b[0m\u001b[0;34m)\u001b[0m\u001b[0;34m)\u001b[0m\u001b[0;34m\u001b[0m\u001b[0;34m\u001b[0m\u001b[0m\n\u001b[0m\u001b[1;32m      2\u001b[0m \u001b[0mprint\u001b[0m\u001b[0;34m(\u001b[0m\u001b[0mFuncaoDeslocamento\u001b[0m\u001b[0;34m(\u001b[0m\u001b[0ma\u001b[0m\u001b[0;34m,\u001b[0m\u001b[0;36m2\u001b[0m\u001b[0;34m)\u001b[0m\u001b[0;34m)\u001b[0m\u001b[0;34m\u001b[0m\u001b[0;34m\u001b[0m\u001b[0m\n",
      "\u001b[0;31mNameError\u001b[0m: name 'a' is not defined"
     ]
    }
   ],
   "source": [
    "print(FuncaoDeslocamento(a,-3))\n",
    "print(FuncaoDeslocamento(a,2))"
   ]
  },
  {
   "cell_type": "code",
   "execution_count": 17,
   "metadata": {},
   "outputs": [
    {
     "name": "stdout",
     "output_type": "stream",
     "text": [
      "[0, 0, 0, 1, 1, 1, 1, 1, 1, 1, 1]\n"
     ]
    }
   ],
   "source": [
    "def Degrau (vetor):\n",
    "    lista = []\n",
    "    for item in vetor: \n",
    "        if (item < 0):\n",
    "            item = 0\n",
    "       # elif (item == 0):\n",
    "        #    item = 'Indefinida'\n",
    "        else:\n",
    "            item = 1\n",
    "        #if (item == 0):\n",
    "            #print(\"Em t=0, a função é indefinida\")\n",
    "        lista.append(item)\n",
    "         \n",
    "    return lista\n",
    "            \n",
    "print(Degrau([-4,-3,-2,0,1,2,3,4,0,0,0]))"
   ]
  },
  {
   "cell_type": "code",
   "execution_count": 18,
   "metadata": {},
   "outputs": [
    {
     "name": "stdout",
     "output_type": "stream",
     "text": [
      "[0, 0, 0, 1, 0, 0, 0, 0, 1, 1, 1]\n"
     ]
    }
   ],
   "source": [
    "def Impulso (vetor):\n",
    "    lista = []\n",
    "    for item in vetor:\n",
    "        if (item < 0):\n",
    "            item = 0 \n",
    "        elif (item == 0):\n",
    "            item = 1\n",
    "        elif (item > 0):\n",
    "            item = 0\n",
    "        lista.append(item)\n",
    "    return lista\n",
    "print(Impulso([-4,-3,-2,0,1,2,3,4,0,0,0]))"
   ]
  },
  {
   "cell_type": "markdown",
   "metadata": {},
   "source": [
    "### Plotando"
   ]
  },
  {
   "cell_type": "code",
   "execution_count": 19,
   "metadata": {},
   "outputs": [
    {
     "data": {
      "image/png": "[encoded data removed]",
      "text/plain": [
       "<Figure size 1440x360 with 3 Axes>"
      ]
     },
     "metadata": {
      "needs_background": "light"
     },
     "output_type": "display_data"
    }
   ],
   "source": [
    "b = range(-5,5)\n",
    "a = Degrau(b)\n",
    "\n",
    "fig, axs = plt.subplots(1,3,figsize=(20,5))\n",
    "axs[0].stem(b, b)\n",
    "axs[0].set_title(\"t\")\n",
    "\n",
    "axs[1].stem(b,a)\n",
    "axs[1].set_title(\"u[n]\")\n",
    "\n",
    "axs[2].stem(FuncaoDeslocamento(b,3),a)\n",
    "axs[2].set_title(\"u[n - 3]\")\n",
    "\n",
    "for ax in axs.flat:\n",
    "    ax.set(xlabel='n', ylabel='x[n]')"
   ]
  },
  {
   "cell_type": "code",
   "execution_count": 20,
   "metadata": {},
   "outputs": [
    {
     "data": {
      "image/png": "[encoded data removed]",
      "text/plain": [
       "<Figure size 1440x360 with 3 Axes>"
      ]
     },
     "metadata": {
      "needs_background": "light"
     },
     "output_type": "display_data"
    }
   ],
   "source": [
    "fig, axs = plt.subplots(1,3,figsize=(20,5))\n",
    "axs[0].stem(b, b)\n",
    "axs[0].set_title(\"t\")\n",
    "\n",
    "axs[1].stem(b,a)\n",
    "axs[1].set_title(\"u[n]\")\n",
    "\n",
    "axs[2].stem(FuncaoDeslocamento(b,-2),a)\n",
    "axs[2].set_title(\"u[n + 2]\")\n",
    "\n",
    "for ax in axs.flat:\n",
    "    ax.set(xlabel='n', ylabel='x[n]')"
   ]
  },
  {
   "cell_type": "code",
   "execution_count": 21,
   "metadata": {},
   "outputs": [
    {
     "data": {
      "image/png": "[encoded data removed]",
      "text/plain": [
       "<Figure size 1440x360 with 3 Axes>"
      ]
     },
     "metadata": {
      "needs_background": "light"
     },
     "output_type": "display_data"
    }
   ],
   "source": [
    "c = Impulso(b)\n",
    "\n",
    "fig, axs = plt.subplots(1,3,figsize=(20,5))\n",
    "axs[0].stem(b, b)\n",
    "axs[0].set_title(\"t\")\n",
    "\n",
    "axs[1].stem(b,c)\n",
    "axs[1].set_title(\"δ[n]\")\n",
    "\n",
    "axs[2].stem(FuncaoDeslocamento(b,3),c)\n",
    "axs[2].set_title(\"δ[n - 3]\")\n",
    "\n",
    "for ax in axs.flat:\n",
    "    ax.set(xlabel='n', ylabel='x[n]')"
   ]
  },
  {
   "cell_type": "code",
   "execution_count": null,
   "metadata": {},
   "outputs": [],
   "source": []
  },
  {
   "cell_type": "code",
   "execution_count": null,
   "metadata": {},
   "outputs": [],
   "source": []
  }
 ],
 "metadata": {
  "kernelspec": {
   "display_name": "Python 3",
   "language": "python",
   "name": "python3"
  },
  "language_info": {
   "codemirror_mode": {
    "name": "ipython",
    "version": 3
   },
   "file_extension": ".py",
   "mimetype": "text/x-python",
   "name": "python",
   "nbconvert_exporter": "python",
   "pygments_lexer": "ipython3",
   "version": "3.6.9"
  }
 },
 "nbformat": 4,
 "nbformat_minor": 2
}
